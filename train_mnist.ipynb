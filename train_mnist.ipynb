{
  "cells": [
    {
      "cell_type": "markdown",
      "metadata": {
        "id": "BJbn3o3M-Yyo"
      },
      "source": [
        "Two approaches for this problem\n",
        "\n",
        "1. Label the images as odd even (1/0) and model a binary classification problem\n",
        "2. Model a multiclass classification problem, and apply odd/even filter on top of its predictions\n",
        "\n",
        "The latter gives accuracy improvement of 96% over the former; while the former fails to perform good on binary setting"
      ]
    },
    {
      "cell_type": "code",
      "execution_count": null,
      "metadata": {
        "colab": {
          "base_uri": "https://localhost:8080/"
        },
        "id": "NWAALMrM3WsN",
        "outputId": "e478038a-1e41-41e9-e171-943a68698fe6"
      },
      "outputs": [],
      "source": [
        "pip install -q -U tensorflow-addons"
      ]
    },
    {
      "cell_type": "code",
      "execution_count": 1,
      "metadata": {
        "id": "H6NC63TgrhrG"
      },
      "outputs": [],
      "source": [
        "import tensorflow as tf\n",
        "import matplotlib.pyplot as plt\n",
        "import numpy as np\n",
        "from tqdm import tqdm_notebook\n",
        "\n",
        "from tensorflow.keras.models import Sequential\n",
        "from tensorflow.keras.layers import Dense, Dropout, Activation, Flatten, Conv2D, MaxPooling2D"
      ]
    },
    {
      "cell_type": "code",
      "execution_count": 2,
      "metadata": {
        "colab": {
          "base_uri": "https://localhost:8080/"
        },
        "id": "P8zn9MprwHbJ",
        "outputId": "7ca69ec3-4016-4a86-f574-1b904179f49a"
      },
      "outputs": [
        {
          "name": "stdout",
          "output_type": "stream",
          "text": [
            "Num GPUs Available:  1\n"
          ]
        }
      ],
      "source": [
        "print(\"Num GPUs Available: \", len(tf.config.list_physical_devices('GPU')))"
      ]
    },
    {
      "cell_type": "code",
      "execution_count": 3,
      "metadata": {
        "id": "yglYMU63sB8X"
      },
      "outputs": [],
      "source": [
        "data = tf.keras.datasets.mnist\n",
        "(x_train, y_train), (x_test, y_test) = data.load_data()"
      ]
    },
    {
      "cell_type": "code",
      "execution_count": 4,
      "metadata": {
        "colab": {
          "base_uri": "https://localhost:8080/"
        },
        "id": "x-1t-GT9tBWP",
        "outputId": "e3e62c2d-b6e6-48ed-fa30-7b7f59f8352d"
      },
      "outputs": [
        {
          "data": {
            "text/plain": [
              "((60000, 28, 28), array([5, 0, 4, ..., 5, 6, 8], dtype=uint8))"
            ]
          },
          "execution_count": 4,
          "metadata": {},
          "output_type": "execute_result"
        }
      ],
      "source": [
        "x_train.shape, y_train"
      ]
    },
    {
      "cell_type": "markdown",
      "metadata": {
        "id": "k1TTny6S2FSB"
      },
      "source": [
        "### Rotate Images"
      ]
    },
    {
      "cell_type": "code",
      "execution_count": 5,
      "metadata": {
        "id": "QSw0Wxyz3Qzv"
      },
      "outputs": [],
      "source": [
        "import tensorflow_addons as tfa"
      ]
    },
    {
      "cell_type": "code",
      "execution_count": 6,
      "metadata": {
        "colab": {
          "base_uri": "https://localhost:8080/",
          "height": 265
        },
        "id": "TOad1k7m36xa",
        "outputId": "4476bef1-3c0b-4053-d6fb-0fffa0dd4d7d"
      },
      "outputs": [
        {
          "data": {
            "image/png": "[encoded data removed]",
            "text/plain": [
              "<Figure size 432x288 with 1 Axes>"
            ]
          },
          "metadata": {
            "needs_background": "light"
          },
          "output_type": "display_data"
        }
      ],
      "source": [
        "_ = plt.imshow(x_train[30])\n"
      ]
    },
    {
      "cell_type": "code",
      "execution_count": 7,
      "metadata": {
        "colab": {
          "base_uri": "https://localhost:8080/",
          "height": 265
        },
        "id": "5OZKHdQR3Oz9",
        "outputId": "c61a67b5-7e55-4072-d170-57128ed541ba"
      },
      "outputs": [
        {
          "data": {
            "image/png": "[encoded data removed]",
            "text/plain": [
              "<Figure size 432x288 with 1 Axes>"
            ]
          },
          "metadata": {
            "needs_background": "light"
          },
          "output_type": "display_data"
        }
      ],
      "source": [
        "rotate = tfa.image.rotate(x_train[30], tf.constant(180.0))\n",
        "_ = plt.imshow(rotate)\n"
      ]
    },
    {
      "cell_type": "code",
      "execution_count": 8,
      "metadata": {
        "colab": {
          "base_uri": "https://localhost:8080/",
          "height": 215,
          "referenced_widgets": [
            "e7f0f5f4d4314202991da899ac82c482",
            "430a4ca024344cc4b59989743d66c2ce",
            "3577b556f3124a4b83466879065ed3e7",
            "81b24f45e1ba466a90ce62f42d9d5d57",
            "944844142b0146e9b076fb4e9f8a8329",
            "b9b0a3fd126f4cd09aa94e232f6b4e89",
            "796e84a189254e8cbc17fb9642089b5b",
            "6f4b595a4a0e4154adead8ef1441f490",
            "abcb94e9009a45c1ae42f36615a5ca81",
            "b28b316e36f249e8890520f3278a744f",
            "085ac51d9fad4648bb20dc8d2d49da17",
            "222c94985bf54c4ea1a8884697d00405",
            "21b9b4f6cc7a4540b5cc49ec152c4763",
            "2205a52859ab4ff5b540c7e3f47e2548",
            "232f06cf8dcd43c0a917b29d482fe0ed",
            "47bbd7a59d034a87be5796a175f590ed",
            "af513a05a3de4bcd893cf36750f08555",
            "b8e3998f6ee2404cb8d1501c6a2b66fc",
            "daa2b219f10044e198f583c751e7ca97",
            "e59ddb88721a48c189238f9e47230ea2",
            "28ce4eb756514867b3412c36f47b7d8e",
            "e9a49ccb8435418c8c2786d9ed35fb6f"
          ]
        },
        "id": "CwPmj3zT4VnC",
        "outputId": "2ce7da48-6c9c-43a1-cfba-538622b458bc"
      },
      "outputs": [
        {
          "name": "stderr",
          "output_type": "stream",
          "text": [
            "/usr/local/lib/python3.7/dist-packages/ipykernel_launcher.py:2: TqdmDeprecationWarning: This function will be removed in tqdm==5.0.0\n",
            "Please use `tqdm.notebook.tqdm` instead of `tqdm.tqdm_notebook`\n",
            "  \n"
          ]
        },
        {
          "data": {
            "application/vnd.jupyter.widget-view+json": {
              "model_id": "e7f0f5f4d4314202991da899ac82c482",
              "version_major": 2,
              "version_minor": 0
            },
            "text/plain": [
              "  0%|          | 0/60000 [00:00<?, ?it/s]"
            ]
          },
          "metadata": {},
          "output_type": "display_data"
        },
        {
          "name": "stderr",
          "output_type": "stream",
          "text": [
            "/usr/local/lib/python3.7/dist-packages/ipykernel_launcher.py:7: TqdmDeprecationWarning: This function will be removed in tqdm==5.0.0\n",
            "Please use `tqdm.notebook.tqdm` instead of `tqdm.tqdm_notebook`\n",
            "  import sys\n"
          ]
        },
        {
          "data": {
            "application/vnd.jupyter.widget-view+json": {
              "model_id": "222c94985bf54c4ea1a8884697d00405",
              "version_major": 2,
              "version_minor": 0
            },
            "text/plain": [
              "  0%|          | 0/10000 [00:00<?, ?it/s]"
            ]
          },
          "metadata": {},
          "output_type": "display_data"
        },
        {
          "name": "stdout",
          "output_type": "stream",
          "text": [
            "CPU times: user 6min 13s, sys: 11.4 s, total: 6min 24s\n",
            "Wall time: 6min 35s\n"
          ]
        }
      ],
      "source": [
        "%%time\n",
        "rotated_x_train = []\n",
        "for img in tqdm_notebook(x_train):\n",
        "  rotate = tfa.image.rotate(img, tf.constant(180.0))\n",
        "  rotated_x_train.append(rotate)\n",
        "\n",
        "rotated_x_test = []\n",
        "for img in tqdm_notebook(x_test):\n",
        "  rotate = tfa.image.rotate(img, tf.constant(180.0))\n",
        "  rotated_x_test.append(rotate)"
      ]
    },
    {
      "cell_type": "code",
      "execution_count": 9,
      "metadata": {
        "id": "th2uXCZj7Bpg"
      },
      "outputs": [],
      "source": [
        "rotated_x_train_final = np.asarray(rotated_x_train)\n",
        "rotated_x_test_final = np.asarray(rotated_x_test)\n"
      ]
    },
    {
      "cell_type": "code",
      "execution_count": 10,
      "metadata": {
        "colab": {
          "base_uri": "https://localhost:8080/"
        },
        "id": "-iBik15g7Hcn",
        "outputId": "3d530cbd-67b0-4880-aada-932126cc3729"
      },
      "outputs": [
        {
          "data": {
            "text/plain": [
              "((60000, 28, 28), (60000, 28, 28))"
            ]
          },
          "execution_count": 10,
          "metadata": {},
          "output_type": "execute_result"
        }
      ],
      "source": [
        "rotated_x_train_final.shape, x_train.shape"
      ]
    },
    {
      "cell_type": "code",
      "execution_count": 11,
      "metadata": {
        "id": "28sQHear7PA5"
      },
      "outputs": [],
      "source": [
        "x_train_final = np.concatenate((rotated_x_train_final, x_train))\n",
        "x_test_final = np.concatenate((rotated_x_test_final, x_test))"
      ]
    },
    {
      "cell_type": "code",
      "execution_count": 12,
      "metadata": {
        "id": "EscsJlEU70IA"
      },
      "outputs": [],
      "source": [
        "y_train_final = np.concatenate((y_train, y_train))\n",
        "y_test_final = np.concatenate((y_test, y_test))"
      ]
    },
    {
      "cell_type": "markdown",
      "metadata": {
        "id": "4s9M0TKH2H1_"
      },
      "source": [
        "### Setup training"
      ]
    },
    {
      "cell_type": "code",
      "execution_count": 13,
      "metadata": {
        "id": "YRYtSBH2s0bs"
      },
      "outputs": [],
      "source": [
        "# # Make odd-1/even-0 labels\n",
        "\n",
        "y_train_NUM = np.asarray([int(x%2) for x in y_train_final])\n",
        "y_test_NUM = np.asarray([int(x%2) for x in y_test_final])"
      ]
    },
    {
      "cell_type": "code",
      "execution_count": 14,
      "metadata": {
        "colab": {
          "base_uri": "https://localhost:8080/"
        },
        "id": "JV_o9xUEuiqd",
        "outputId": "b3c1787a-6f45-4029-8ded-46d7f4954981"
      },
      "outputs": [
        {
          "data": {
            "text/plain": [
              "array([11846, 13484, 11916, 12262, 11684, 10842, 11836, 12530, 11702,\n",
              "       11898])"
            ]
          },
          "execution_count": 14,
          "metadata": {},
          "output_type": "execute_result"
        }
      ],
      "source": [
        "np.bincount(y_train_final)"
      ]
    },
    {
      "cell_type": "code",
      "execution_count": 15,
      "metadata": {
        "colab": {
          "base_uri": "https://localhost:8080/",
          "height": 282
        },
        "id": "lBk9wj-isd-6",
        "outputId": "e6faa2fc-7248-4f98-812f-382296d4e9fc"
      },
      "outputs": [
        {
          "data": {
            "text/plain": [
              "<matplotlib.image.AxesImage at 0x7f0d61faadd0>"
            ]
          },
          "execution_count": 15,
          "metadata": {},
          "output_type": "execute_result"
        },
        {
          "data": {
            "image/png": "[encoded data removed]",
            "text/plain": [
              "<Figure size 432x288 with 1 Axes>"
            ]
          },
          "metadata": {
            "needs_background": "light"
          },
          "output_type": "display_data"
        }
      ],
      "source": [
        "# Normalization\n",
        "x_train_final = tf.keras.utils.normalize(x_train_final, axis = 1)\n",
        "x_test_final = tf.keras.utils.normalize(x_test_final, axis = 1)\n",
        "plt.imshow(x_train_final[0], cmap = plt.cm.binary)\n"
      ]
    },
    {
      "cell_type": "code",
      "execution_count": 16,
      "metadata": {
        "colab": {
          "base_uri": "https://localhost:8080/"
        },
        "id": "5lDwfv29shpD",
        "outputId": "c494b67f-2766-49a5-9c26-2a336487d1f5"
      },
      "outputs": [
        {
          "name": "stdout",
          "output_type": "stream",
          "text": [
            "Training Samples dimension (120000, 28, 28, 1)\n",
            "Testing Samples dimension (20000, 28, 28, 1)\n"
          ]
        }
      ],
      "source": [
        "# Resize images for convolution\n",
        "\n",
        "IMG_SIZE=28\n",
        "# -1 is a shorthand, which returns the length of the dataset\n",
        "x_trainr = np.array(x_train_final).reshape(-1, IMG_SIZE, IMG_SIZE, 1)\n",
        "x_testr = np.array(x_test_final).reshape(-1, IMG_SIZE, IMG_SIZE, 1)\n",
        "print(\"Training Samples dimension\", x_trainr.shape)\n",
        "print(\"Testing Samples dimension\", x_testr.shape)\n",
        "\n",
        "# Training Samples dimension (60000, 28, 28, 1)\n",
        "# Testing Samples dimension (10000, 28, 28, 1)\n"
      ]
    },
    {
      "cell_type": "code",
      "execution_count": 39,
      "metadata": {
        "id": "iobtvAtwssjw"
      },
      "outputs": [],
      "source": [
        "# Creating the network\n",
        "model = Sequential()\n",
        "\n",
        "### First Convolution Layer\n",
        "# 64 -> number of filters, (3,3) -> size of each kernal,\n",
        "model.add(Conv2D(64, (3,3), input_shape = x_trainr.shape[1:])) # For first layer we have to mention the size of input\n",
        "model.add(Activation('relu'))\n",
        "model.add(MaxPooling2D(pool_size=(2,2)))\n",
        "\n",
        "### Second Convolution Layer\n",
        "model.add(Conv2D(64, (3,3)))\n",
        "model.add(Activation('relu'))\n",
        "model.add(MaxPooling2D(pool_size=(2,2)))\n",
        "\n",
        "### Third Convolution Layer\n",
        "model.add(Conv2D(64, (3,3)))\n",
        "model.add(Activation('relu'))\n",
        "model.add(MaxPooling2D(pool_size=(2,2)))\n",
        "\n",
        "### Fully connected layer 1\n",
        "model.add(Flatten())\n",
        "model.add(Dense(64))\n",
        "model.add(Activation(\"relu\"))\n",
        "\n",
        "### Fully connected layer 2\n",
        "model.add(Dense(32))\n",
        "model.add(Activation(\"relu\"))\n",
        "\n",
        "### Fully connected layer 3, output layer must be equal to number of classes\n",
        "model.add(Dense(10))\n",
        "model.add(Activation(\"softmax\"))\n"
      ]
    },
    {
      "cell_type": "code",
      "execution_count": 40,
      "metadata": {
        "colab": {
          "base_uri": "https://localhost:8080/"
        },
        "id": "GFu248zFtt8F",
        "outputId": "0551efaa-c1cf-4133-98df-6d929975bff2"
      },
      "outputs": [
        {
          "name": "stdout",
          "output_type": "stream",
          "text": [
            "Model: \"sequential_3\"\n",
            "_________________________________________________________________\n",
            " Layer (type)                Output Shape              Param #   \n",
            "=================================================================\n",
            " conv2d_9 (Conv2D)           (None, 26, 26, 64)        640       \n",
            "                                                                 \n",
            " activation_18 (Activation)  (None, 26, 26, 64)        0         \n",
            "                                                                 \n",
            " max_pooling2d_9 (MaxPooling  (None, 13, 13, 64)       0         \n",
            " 2D)                                                             \n",
            "                                                                 \n",
            " conv2d_10 (Conv2D)          (None, 11, 11, 64)        36928     \n",
            "                                                                 \n",
            " activation_19 (Activation)  (None, 11, 11, 64)        0         \n",
            "                                                                 \n",
            " max_pooling2d_10 (MaxPoolin  (None, 5, 5, 64)         0         \n",
            " g2D)                                                            \n",
            "                                                                 \n",
            " conv2d_11 (Conv2D)          (None, 3, 3, 64)          36928     \n",
            "                                                                 \n",
            " activation_20 (Activation)  (None, 3, 3, 64)          0         \n",
            "                                                                 \n",
            " max_pooling2d_11 (MaxPoolin  (None, 1, 1, 64)         0         \n",
            " g2D)                                                            \n",
            "                                                                 \n",
            " flatten_3 (Flatten)         (None, 64)                0         \n",
            "                                                                 \n",
            " dense_9 (Dense)             (None, 64)                4160      \n",
            "                                                                 \n",
            " activation_21 (Activation)  (None, 64)                0         \n",
            "                                                                 \n",
            " dense_10 (Dense)            (None, 32)                2080      \n",
            "                                                                 \n",
            " activation_22 (Activation)  (None, 32)                0         \n",
            "                                                                 \n",
            " dense_11 (Dense)            (None, 10)                330       \n",
            "                                                                 \n",
            " activation_23 (Activation)  (None, 10)                0         \n",
            "                                                                 \n",
            "=================================================================\n",
            "Total params: 81,066\n",
            "Trainable params: 81,066\n",
            "Non-trainable params: 0\n",
            "_________________________________________________________________\n"
          ]
        }
      ],
      "source": [
        "model.summary()\n"
      ]
    },
    {
      "cell_type": "code",
      "execution_count": 41,
      "metadata": {
        "id": "Danh6y7UtxLx"
      },
      "outputs": [],
      "source": [
        "model.compile(loss=\"sparse_categorical_crossentropy\", optimizer=\"adam\", metrics=['accuracy'])\n",
        "\n",
        "# model.compile(loss=tf.keras.losses.binary_crossentropy, optimizer=\"adam\", metrics=['accuracy'])"
      ]
    },
    {
      "cell_type": "code",
      "execution_count": 43,
      "metadata": {
        "colab": {
          "base_uri": "https://localhost:8080/"
        },
        "id": "m5Xq0MeAuzQ-",
        "outputId": "45fc8def-e451-488c-88b5-63de39e6b726"
      },
      "outputs": [
        {
          "name": "stdout",
          "output_type": "stream",
          "text": [
            "Epoch 1/5\n",
            "2625/2625 [==============================] - 13s 5ms/step - loss: 0.3589 - accuracy: 0.8846 - val_loss: 0.2205 - val_accuracy: 0.9315\n",
            "Epoch 2/5\n",
            "2625/2625 [==============================] - 11s 4ms/step - loss: 0.1202 - accuracy: 0.9632 - val_loss: 0.1442 - val_accuracy: 0.9566\n",
            "Epoch 3/5\n",
            "2625/2625 [==============================] - 11s 4ms/step - loss: 0.0847 - accuracy: 0.9737 - val_loss: 0.1207 - val_accuracy: 0.9636\n",
            "Epoch 4/5\n",
            "2625/2625 [==============================] - 12s 5ms/step - loss: 0.0622 - accuracy: 0.9806 - val_loss: 0.1357 - val_accuracy: 0.9602\n",
            "Epoch 5/5\n",
            "2625/2625 [==============================] - 12s 4ms/step - loss: 0.0499 - accuracy: 0.9843 - val_loss: 0.1056 - val_accuracy: 0.9688\n",
            "CPU times: user 1min 2s, sys: 4.51 s, total: 1min 7s\n",
            "Wall time: 59 s\n"
          ]
        },
        {
          "data": {
            "text/plain": [
              "<keras.callbacks.History at 0x7f0cdbcb1d50>"
            ]
          },
          "execution_count": 43,
          "metadata": {},
          "output_type": "execute_result"
        }
      ],
      "source": [
        "%%time\n",
        "model.fit(x_trainr, y_train_final, epochs=5, validation_split = 0.3)\n"
      ]
    },
    {
      "cell_type": "code",
      "execution_count": 44,
      "metadata": {
        "colab": {
          "base_uri": "https://localhost:8080/"
        },
        "id": "hvJHLQdAu3Cf",
        "outputId": "7d44807a-e06b-43b7-bc29-0ed69e5e835f"
      },
      "outputs": [
        {
          "name": "stdout",
          "output_type": "stream",
          "text": [
            "625/625 [==============================] - 2s 2ms/step - loss: 0.0829 - accuracy: 0.9751\n",
            "Test Loss on 10,000 test samples 0.08293270319700241\n",
            "Test Accuracy on 10,000 test samples 0.9750999808311462\n"
          ]
        }
      ],
      "source": [
        "# Evaluating the accuracy on the test data\n",
        "test_loss, test_acc = model.evaluate(x_testr, y_test_final)\n",
        "print(\"Test Loss on 10,000 test samples\", test_loss)\n",
        "print(\"Test Accuracy on 10,000 test samples\", test_acc)\n"
      ]
    },
    {
      "cell_type": "code",
      "execution_count": 23,
      "metadata": {
        "colab": {
          "base_uri": "https://localhost:8080/",
          "height": 500
        },
        "id": "twlLwAGyxDSm",
        "outputId": "a3685562-e050-45c3-c708-ed0e1932b656"
      },
      "outputs": [
        {
          "name": "stdout",
          "output_type": "stream",
          "text": [
            "[[5.34945005e-12 1.15562226e-09 5.41744463e-08 ... 9.99978781e-01\n",
            "  2.35382558e-09 9.81101766e-06]\n",
            " [1.31005982e-05 2.26203876e-04 9.99662995e-01 ... 1.43586453e-06\n",
            "  1.54046738e-05 4.92869617e-07]\n",
            " [1.89216044e-05 9.92391884e-01 2.39789090e-03 ... 1.96725316e-03\n",
            "  1.38439040e-03 1.86341073e-04]\n",
            " ...\n",
            " [2.23810757e-13 1.54987958e-07 1.05984457e-08 ... 6.68127541e-06\n",
            "  1.21885969e-04 1.06278583e-06]\n",
            " [5.31267005e-06 2.04637356e-08 2.24069413e-06 ... 9.82291681e-07\n",
            "  1.21042624e-01 1.88745838e-03]\n",
            " [2.00165960e-04 6.28950656e-04 1.28517847e-03 ... 5.93908044e-06\n",
            "  2.41267815e-04 3.58008314e-04]]\n",
            "7\n"
          ]
        },
        {
          "data": {
            "image/png": "[encoded data removed]",
            "text/plain": [
              "<Figure size 432x288 with 1 Axes>"
            ]
          },
          "metadata": {
            "needs_background": "light"
          },
          "output_type": "display_data"
        }
      ],
      "source": [
        "predictions = model.predict([x_testr])\n",
        "print(predictions)\n",
        "\n",
        "plt.imshow(x_test_final[0])\n",
        "print(np.argmax(predictions[0]))\n",
        "# 7\n"
      ]
    },
    {
      "cell_type": "code",
      "execution_count": 24,
      "metadata": {
        "id": "L9gYLQ1c0DBe"
      },
      "outputs": [],
      "source": [
        "test_preds = np.argmax(predictions, axis=1)\n",
        "\n",
        "test_preds_odd_even = np.asarray([int(x%2) for x in test_preds])"
      ]
    },
    {
      "cell_type": "code",
      "execution_count": 25,
      "metadata": {
        "colab": {
          "base_uri": "https://localhost:8080/"
        },
        "id": "zjwhH3hE0kkr",
        "outputId": "106c3c29-9ea7-44e4-de2b-a0ee31887c10"
      },
      "outputs": [
        {
          "data": {
            "text/plain": [
              "0.98565"
            ]
          },
          "execution_count": 25,
          "metadata": {},
          "output_type": "execute_result"
        }
      ],
      "source": [
        "np.mean(test_preds_odd_even==y_test_NUM)\n",
        "\n",
        "# ODD EVEN test accuracy"
      ]
    },
    {
      "cell_type": "code",
      "execution_count": 29,
      "metadata": {
        "colab": {
          "base_uri": "https://localhost:8080/"
        },
        "id": "zXOvAohixLRX",
        "outputId": "996f3d7b-1503-4221-f00a-c939a3ab268a"
      },
      "outputs": [
        {
          "name": "stdout",
          "output_type": "stream",
          "text": [
            "INFO:tensorflow:Assets written to: ./model_ckpt/assets\n"
          ]
        }
      ],
      "source": [
        "# Save the model\n",
        "model.save('./model_ckpt')\n"
      ]
    },
    {
      "cell_type": "code",
      "execution_count": 30,
      "metadata": {
        "id": "WTJB-SinxOqs"
      },
      "outputs": [],
      "source": [
        "# Loading back the model\n",
        "from tensorflow import keras\n",
        "test_model = keras.models.load_model('./model_ckpt')\n"
      ]
    },
    {
      "cell_type": "markdown",
      "metadata": {
        "id": "xrXKpYjuxGTO"
      },
      "source": [
        "### Test on sample image"
      ]
    },
    {
      "cell_type": "code",
      "execution_count": null,
      "metadata": {
        "id": "BND8BAdWxH7J"
      },
      "outputs": [],
      "source": [
        "import cv2\n",
        "img = cv2.imread('three.png')\n",
        "plt.imshow(img)\n"
      ]
    },
    {
      "cell_type": "code",
      "execution_count": null,
      "metadata": {
        "id": "aLTyNdrRxJsp"
      },
      "outputs": [],
      "source": [
        "img.shape\n",
        "# (28, 28, 3)\n",
        "\n",
        "# Converting to grayscale\n",
        "gray = cv2.cvtColor(img, cv2.COLOR_BGR2GRAY)\n",
        "gray.shape\n",
        "# (28, 28)\n",
        "\n",
        "# Resizing to a 28x28 image\n",
        "# Please note my image was already in correct dimension\n",
        "resized = cv2.resize(gray, (28,28), interpolation = cv2.INTER_AREA)\n",
        "resized.shape\n",
        "# (28, 28)\n",
        "\n",
        "# 0-1 scaling\n",
        "newimg = tf.keras.utils.normalize(resized, axis = 1)\n",
        "\n",
        "# For kernal operations\n",
        "newimg = np.array(newimg).reshape(-1, IMG_SIZE, IMG_SIZE, 1)\n",
        "\n",
        "newimg.shape\n",
        "# (1, 28, 28, 1)\n",
        "\n",
        "predictions = model.predict(newimg)\n",
        "print(np.argmax(predictions[0]))\n",
        "# 3\n"
      ]
    }
  ],
  "metadata": {
    "accelerator": "GPU",
    "colab": {
      "collapsed_sections": [],
      "name": "train_mnist.ipynb",
      "provenance": []
    },
    "gpuClass": "standard",
    "kernelspec": {
      "display_name": "Python 3.8.10 64-bit",
      "language": "python",
      "name": "python3"
    },
    "language_info": {
      "name": "python",
      "version": "3.8.10"
    },
    "vscode": {
      "interpreter": {
        "hash": "31f2aee4e71d21fbe5cf8b01ff0e069b9275f58929596ceb00d14d90e3e16cd6"
      }
    },
    "widgets": {
      "application/vnd.jupyter.widget-state+json": {
        "085ac51d9fad4648bb20dc8d2d49da17": {
          "model_module": "@jupyter-widgets/controls",
          "model_module_version": "1.5.0",
          "model_name": "DescriptionStyleModel",
          "state": {
            "_model_module": "@jupyter-widgets/controls",
            "_model_module_version": "1.5.0",
            "_model_name": "DescriptionStyleModel",
            "_view_count": null,
            "_view_module": "@jupyter-widgets/base",
            "_view_module_version": "1.2.0",
            "_view_name": "StyleView",
            "description_width": ""
          }
        },
        "21b9b4f6cc7a4540b5cc49ec152c4763": {
          "model_module": "@jupyter-widgets/controls",
          "model_module_version": "1.5.0",
          "model_name": "HTMLModel",
          "state": {
            "_dom_classes": [],
            "_model_module": "@jupyter-widgets/controls",
            "_model_module_version": "1.5.0",
            "_model_name": "HTMLModel",
            "_view_count": null,
            "_view_module": "@jupyter-widgets/controls",
            "_view_module_version": "1.5.0",
            "_view_name": "HTMLView",
            "description": "",
            "description_tooltip": null,
            "layout": "IPY_MODEL_af513a05a3de4bcd893cf36750f08555",
            "placeholder": "​",
            "style": "IPY_MODEL_b8e3998f6ee2404cb8d1501c6a2b66fc",
            "value": "100%"
          }
        },
        "2205a52859ab4ff5b540c7e3f47e2548": {
          "model_module": "@jupyter-widgets/controls",
          "model_module_version": "1.5.0",
          "model_name": "FloatProgressModel",
          "state": {
            "_dom_classes": [],
            "_model_module": "@jupyter-widgets/controls",
            "_model_module_version": "1.5.0",
            "_model_name": "FloatProgressModel",
            "_view_count": null,
            "_view_module": "@jupyter-widgets/controls",
            "_view_module_version": "1.5.0",
            "_view_name": "ProgressView",
            "bar_style": "success",
            "description": "",
            "description_tooltip": null,
            "layout": "IPY_MODEL_daa2b219f10044e198f583c751e7ca97",
            "max": 10000,
            "min": 0,
            "orientation": "horizontal",
            "style": "IPY_MODEL_e59ddb88721a48c189238f9e47230ea2",
            "value": 10000
          }
        },
        "222c94985bf54c4ea1a8884697d00405": {
          "model_module": "@jupyter-widgets/controls",
          "model_module_version": "1.5.0",
          "model_name": "HBoxModel",
          "state": {
            "_dom_classes": [],
            "_model_module": "@jupyter-widgets/controls",
            "_model_module_version": "1.5.0",
            "_model_name": "HBoxModel",
            "_view_count": null,
            "_view_module": "@jupyter-widgets/controls",
            "_view_module_version": "1.5.0",
            "_view_name": "HBoxView",
            "box_style": "",
            "children": [
              "IPY_MODEL_21b9b4f6cc7a4540b5cc49ec152c4763",
              "IPY_MODEL_2205a52859ab4ff5b540c7e3f47e2548",
              "IPY_MODEL_232f06cf8dcd43c0a917b29d482fe0ed"
            ],
            "layout": "IPY_MODEL_47bbd7a59d034a87be5796a175f590ed"
          }
        },
        "232f06cf8dcd43c0a917b29d482fe0ed": {
          "model_module": "@jupyter-widgets/controls",
          "model_module_version": "1.5.0",
          "model_name": "HTMLModel",
          "state": {
            "_dom_classes": [],
            "_model_module": "@jupyter-widgets/controls",
            "_model_module_version": "1.5.0",
            "_model_name": "HTMLModel",
            "_view_count": null,
            "_view_module": "@jupyter-widgets/controls",
            "_view_module_version": "1.5.0",
            "_view_name": "HTMLView",
            "description": "",
            "description_tooltip": null,
            "layout": "IPY_MODEL_28ce4eb756514867b3412c36f47b7d8e",
            "placeholder": "​",
            "style": "IPY_MODEL_e9a49ccb8435418c8c2786d9ed35fb6f",
            "value": " 10000/10000 [00:53&lt;00:00, 180.55it/s]"
          }
        },
        "28ce4eb756514867b3412c36f47b7d8e": {
          "model_module": "@jupyter-widgets/base",
          "model_module_version": "1.2.0",
          "model_name": "LayoutModel",
          "state": {
            "_model_module": "@jupyter-widgets/base",
            "_model_module_version": "1.2.0",
            "_model_name": "LayoutModel",
            "_view_count": null,
            "_view_module": "@jupyter-widgets/base",
            "_view_module_version": "1.2.0",
            "_view_name": "LayoutView",
            "align_content": null,
            "align_items": null,
            "align_self": null,
            "border": null,
            "bottom": null,
            "display": null,
            "flex": null,
            "flex_flow": null,
            "grid_area": null,
            "grid_auto_columns": null,
            "grid_auto_flow": null,
            "grid_auto_rows": null,
            "grid_column": null,
            "grid_gap": null,
            "grid_row": null,
            "grid_template_areas": null,
            "grid_template_columns": null,
            "grid_template_rows": null,
            "height": null,
            "justify_content": null,
            "justify_items": null,
            "left": null,
            "margin": null,
            "max_height": null,
            "max_width": null,
            "min_height": null,
            "min_width": null,
            "object_fit": null,
            "object_position": null,
            "order": null,
            "overflow": null,
            "overflow_x": null,
            "overflow_y": null,
            "padding": null,
            "right": null,
            "top": null,
            "visibility": null,
            "width": null
          }
        },
        "3577b556f3124a4b83466879065ed3e7": {
          "model_module": "@jupyter-widgets/controls",
          "model_module_version": "1.5.0",
          "model_name": "FloatProgressModel",
          "state": {
            "_dom_classes": [],
            "_model_module": "@jupyter-widgets/controls",
            "_model_module_version": "1.5.0",
            "_model_name": "FloatProgressModel",
            "_view_count": null,
            "_view_module": "@jupyter-widgets/controls",
            "_view_module_version": "1.5.0",
            "_view_name": "ProgressView",
            "bar_style": "success",
            "description": "",
            "description_tooltip": null,
            "layout": "IPY_MODEL_6f4b595a4a0e4154adead8ef1441f490",
            "max": 60000,
            "min": 0,
            "orientation": "horizontal",
            "style": "IPY_MODEL_abcb94e9009a45c1ae42f36615a5ca81",
            "value": 60000
          }
        },
        "430a4ca024344cc4b59989743d66c2ce": {
          "model_module": "@jupyter-widgets/controls",
          "model_module_version": "1.5.0",
          "model_name": "HTMLModel",
          "state": {
            "_dom_classes": [],
            "_model_module": "@jupyter-widgets/controls",
            "_model_module_version": "1.5.0",
            "_model_name": "HTMLModel",
            "_view_count": null,
            "_view_module": "@jupyter-widgets/controls",
            "_view_module_version": "1.5.0",
            "_view_name": "HTMLView",
            "description": "",
            "description_tooltip": null,
            "layout": "IPY_MODEL_b9b0a3fd126f4cd09aa94e232f6b4e89",
            "placeholder": "​",
            "style": "IPY_MODEL_796e84a189254e8cbc17fb9642089b5b",
            "value": "100%"
          }
        },
        "47bbd7a59d034a87be5796a175f590ed": {
          "model_module": "@jupyter-widgets/base",
          "model_module_version": "1.2.0",
          "model_name": "LayoutModel",
          "state": {
            "_model_module": "@jupyter-widgets/base",
            "_model_module_version": "1.2.0",
            "_model_name": "LayoutModel",
            "_view_count": null,
            "_view_module": "@jupyter-widgets/base",
            "_view_module_version": "1.2.0",
            "_view_name": "LayoutView",
            "align_content": null,
            "align_items": null,
            "align_self": null,
            "border": null,
            "bottom": null,
            "display": null,
            "flex": null,
            "flex_flow": null,
            "grid_area": null,
            "grid_auto_columns": null,
            "grid_auto_flow": null,
            "grid_auto_rows": null,
            "grid_column": null,
            "grid_gap": null,
            "grid_row": null,
            "grid_template_areas": null,
            "grid_template_columns": null,
            "grid_template_rows": null,
            "height": null,
            "justify_content": null,
            "justify_items": null,
            "left": null,
            "margin": null,
            "max_height": null,
            "max_width": null,
            "min_height": null,
            "min_width": null,
            "object_fit": null,
            "object_position": null,
            "order": null,
            "overflow": null,
            "overflow_x": null,
            "overflow_y": null,
            "padding": null,
            "right": null,
            "top": null,
            "visibility": null,
            "width": null
          }
        },
        "6f4b595a4a0e4154adead8ef1441f490": {
          "model_module": "@jupyter-widgets/base",
          "model_module_version": "1.2.0",
          "model_name": "LayoutModel",
          "state": {
            "_model_module": "@jupyter-widgets/base",
            "_model_module_version": "1.2.0",
            "_model_name": "LayoutModel",
            "_view_count": null,
            "_view_module": "@jupyter-widgets/base",
            "_view_module_version": "1.2.0",
            "_view_name": "LayoutView",
            "align_content": null,
            "align_items": null,
            "align_self": null,
            "border": null,
            "bottom": null,
            "display": null,
            "flex": null,
            "flex_flow": null,
            "grid_area": null,
            "grid_auto_columns": null,
            "grid_auto_flow": null,
            "grid_auto_rows": null,
            "grid_column": null,
            "grid_gap": null,
            "grid_row": null,
            "grid_template_areas": null,
            "grid_template_columns": null,
            "grid_template_rows": null,
            "height": null,
            "justify_content": null,
            "justify_items": null,
            "left": null,
            "margin": null,
            "max_height": null,
            "max_width": null,
            "min_height": null,
            "min_width": null,
            "object_fit": null,
            "object_position": null,
            "order": null,
            "overflow": null,
            "overflow_x": null,
            "overflow_y": null,
            "padding": null,
            "right": null,
            "top": null,
            "visibility": null,
            "width": null
          }
        },
        "796e84a189254e8cbc17fb9642089b5b": {
          "model_module": "@jupyter-widgets/controls",
          "model_module_version": "1.5.0",
          "model_name": "DescriptionStyleModel",
          "state": {
            "_model_module": "@jupyter-widgets/controls",
            "_model_module_version": "1.5.0",
            "_model_name": "DescriptionStyleModel",
            "_view_count": null,
            "_view_module": "@jupyter-widgets/base",
            "_view_module_version": "1.2.0",
            "_view_name": "StyleView",
            "description_width": ""
          }
        },
        "81b24f45e1ba466a90ce62f42d9d5d57": {
          "model_module": "@jupyter-widgets/controls",
          "model_module_version": "1.5.0",
          "model_name": "HTMLModel",
          "state": {
            "_dom_classes": [],
            "_model_module": "@jupyter-widgets/controls",
            "_model_module_version": "1.5.0",
            "_model_name": "HTMLModel",
            "_view_count": null,
            "_view_module": "@jupyter-widgets/controls",
            "_view_module_version": "1.5.0",
            "_view_name": "HTMLView",
            "description": "",
            "description_tooltip": null,
            "layout": "IPY_MODEL_b28b316e36f249e8890520f3278a744f",
            "placeholder": "​",
            "style": "IPY_MODEL_085ac51d9fad4648bb20dc8d2d49da17",
            "value": " 60000/60000 [05:41&lt;00:00, 183.48it/s]"
          }
        },
        "944844142b0146e9b076fb4e9f8a8329": {
          "model_module": "@jupyter-widgets/base",
          "model_module_version": "1.2.0",
          "model_name": "LayoutModel",
          "state": {
            "_model_module": "@jupyter-widgets/base",
            "_model_module_version": "1.2.0",
            "_model_name": "LayoutModel",
            "_view_count": null,
            "_view_module": "@jupyter-widgets/base",
            "_view_module_version": "1.2.0",
            "_view_name": "LayoutView",
            "align_content": null,
            "align_items": null,
            "align_self": null,
            "border": null,
            "bottom": null,
            "display": null,
            "flex": null,
            "flex_flow": null,
            "grid_area": null,
            "grid_auto_columns": null,
            "grid_auto_flow": null,
            "grid_auto_rows": null,
            "grid_column": null,
            "grid_gap": null,
            "grid_row": null,
            "grid_template_areas": null,
            "grid_template_columns": null,
            "grid_template_rows": null,
            "height": null,
            "justify_content": null,
            "justify_items": null,
            "left": null,
            "margin": null,
            "max_height": null,
            "max_width": null,
            "min_height": null,
            "min_width": null,
            "object_fit": null,
            "object_position": null,
            "order": null,
            "overflow": null,
            "overflow_x": null,
            "overflow_y": null,
            "padding": null,
            "right": null,
            "top": null,
            "visibility": null,
            "width": null
          }
        },
        "abcb94e9009a45c1ae42f36615a5ca81": {
          "model_module": "@jupyter-widgets/controls",
          "model_module_version": "1.5.0",
          "model_name": "ProgressStyleModel",
          "state": {
            "_model_module": "@jupyter-widgets/controls",
            "_model_module_version": "1.5.0",
            "_model_name": "ProgressStyleModel",
            "_view_count": null,
            "_view_module": "@jupyter-widgets/base",
            "_view_module_version": "1.2.0",
            "_view_name": "StyleView",
            "bar_color": null,
            "description_width": ""
          }
        },
        "af513a05a3de4bcd893cf36750f08555": {
          "model_module": "@jupyter-widgets/base",
          "model_module_version": "1.2.0",
          "model_name": "LayoutModel",
          "state": {
            "_model_module": "@jupyter-widgets/base",
            "_model_module_version": "1.2.0",
            "_model_name": "LayoutModel",
            "_view_count": null,
            "_view_module": "@jupyter-widgets/base",
            "_view_module_version": "1.2.0",
            "_view_name": "LayoutView",
            "align_content": null,
            "align_items": null,
            "align_self": null,
            "border": null,
            "bottom": null,
            "display": null,
            "flex": null,
            "flex_flow": null,
            "grid_area": null,
            "grid_auto_columns": null,
            "grid_auto_flow": null,
            "grid_auto_rows": null,
            "grid_column": null,
            "grid_gap": null,
            "grid_row": null,
            "grid_template_areas": null,
            "grid_template_columns": null,
            "grid_template_rows": null,
            "height": null,
            "justify_content": null,
            "justify_items": null,
            "left": null,
            "margin": null,
            "max_height": null,
            "max_width": null,
            "min_height": null,
            "min_width": null,
            "object_fit": null,
            "object_position": null,
            "order": null,
            "overflow": null,
            "overflow_x": null,
            "overflow_y": null,
            "padding": null,
            "right": null,
            "top": null,
            "visibility": null,
            "width": null
          }
        },
        "b28b316e36f249e8890520f3278a744f": {
          "model_module": "@jupyter-widgets/base",
          "model_module_version": "1.2.0",
          "model_name": "LayoutModel",
          "state": {
            "_model_module": "@jupyter-widgets/base",
            "_model_module_version": "1.2.0",
            "_model_name": "LayoutModel",
            "_view_count": null,
            "_view_module": "@jupyter-widgets/base",
            "_view_module_version": "1.2.0",
            "_view_name": "LayoutView",
            "align_content": null,
            "align_items": null,
            "align_self": null,
            "border": null,
            "bottom": null,
            "display": null,
            "flex": null,
            "flex_flow": null,
            "grid_area": null,
            "grid_auto_columns": null,
            "grid_auto_flow": null,
            "grid_auto_rows": null,
            "grid_column": null,
            "grid_gap": null,
            "grid_row": null,
            "grid_template_areas": null,
            "grid_template_columns": null,
            "grid_template_rows": null,
            "height": null,
            "justify_content": null,
            "justify_items": null,
            "left": null,
            "margin": null,
            "max_height": null,
            "max_width": null,
            "min_height": null,
            "min_width": null,
            "object_fit": null,
            "object_position": null,
            "order": null,
            "overflow": null,
            "overflow_x": null,
            "overflow_y": null,
            "padding": null,
            "right": null,
            "top": null,
            "visibility": null,
            "width": null
          }
        },
        "b8e3998f6ee2404cb8d1501c6a2b66fc": {
          "model_module": "@jupyter-widgets/controls",
          "model_module_version": "1.5.0",
          "model_name": "DescriptionStyleModel",
          "state": {
            "_model_module": "@jupyter-widgets/controls",
            "_model_module_version": "1.5.0",
            "_model_name": "DescriptionStyleModel",
            "_view_count": null,
            "_view_module": "@jupyter-widgets/base",
            "_view_module_version": "1.2.0",
            "_view_name": "StyleView",
            "description_width": ""
          }
        },
        "b9b0a3fd126f4cd09aa94e232f6b4e89": {
          "model_module": "@jupyter-widgets/base",
          "model_module_version": "1.2.0",
          "model_name": "LayoutModel",
          "state": {
            "_model_module": "@jupyter-widgets/base",
            "_model_module_version": "1.2.0",
            "_model_name": "LayoutModel",
            "_view_count": null,
            "_view_module": "@jupyter-widgets/base",
            "_view_module_version": "1.2.0",
            "_view_name": "LayoutView",
            "align_content": null,
            "align_items": null,
            "align_self": null,
            "border": null,
            "bottom": null,
            "display": null,
            "flex": null,
            "flex_flow": null,
            "grid_area": null,
            "grid_auto_columns": null,
            "grid_auto_flow": null,
            "grid_auto_rows": null,
            "grid_column": null,
            "grid_gap": null,
            "grid_row": null,
            "grid_template_areas": null,
            "grid_template_columns": null,
            "grid_template_rows": null,
            "height": null,
            "justify_content": null,
            "justify_items": null,
            "left": null,
            "margin": null,
            "max_height": null,
            "max_width": null,
            "min_height": null,
            "min_width": null,
            "object_fit": null,
            "object_position": null,
            "order": null,
            "overflow": null,
            "overflow_x": null,
            "overflow_y": null,
            "padding": null,
            "right": null,
            "top": null,
            "visibility": null,
            "width": null
          }
        },
        "daa2b219f10044e198f583c751e7ca97": {
          "model_module": "@jupyter-widgets/base",
          "model_module_version": "1.2.0",
          "model_name": "LayoutModel",
          "state": {
            "_model_module": "@jupyter-widgets/base",
            "_model_module_version": "1.2.0",
            "_model_name": "LayoutModel",
            "_view_count": null,
            "_view_module": "@jupyter-widgets/base",
            "_view_module_version": "1.2.0",
            "_view_name": "LayoutView",
            "align_content": null,
            "align_items": null,
            "align_self": null,
            "border": null,
            "bottom": null,
            "display": null,
            "flex": null,
            "flex_flow": null,
            "grid_area": null,
            "grid_auto_columns": null,
            "grid_auto_flow": null,
            "grid_auto_rows": null,
            "grid_column": null,
            "grid_gap": null,
            "grid_row": null,
            "grid_template_areas": null,
            "grid_template_columns": null,
            "grid_template_rows": null,
            "height": null,
            "justify_content": null,
            "justify_items": null,
            "left": null,
            "margin": null,
            "max_height": null,
            "max_width": null,
            "min_height": null,
            "min_width": null,
            "object_fit": null,
            "object_position": null,
            "order": null,
            "overflow": null,
            "overflow_x": null,
            "overflow_y": null,
            "padding": null,
            "right": null,
            "top": null,
            "visibility": null,
            "width": null
          }
        },
        "e59ddb88721a48c189238f9e47230ea2": {
          "model_module": "@jupyter-widgets/controls",
          "model_module_version": "1.5.0",
          "model_name": "ProgressStyleModel",
          "state": {
            "_model_module": "@jupyter-widgets/controls",
            "_model_module_version": "1.5.0",
            "_model_name": "ProgressStyleModel",
            "_view_count": null,
            "_view_module": "@jupyter-widgets/base",
            "_view_module_version": "1.2.0",
            "_view_name": "StyleView",
            "bar_color": null,
            "description_width": ""
          }
        },
        "e7f0f5f4d4314202991da899ac82c482": {
          "model_module": "@jupyter-widgets/controls",
          "model_module_version": "1.5.0",
          "model_name": "HBoxModel",
          "state": {
            "_dom_classes": [],
            "_model_module": "@jupyter-widgets/controls",
            "_model_module_version": "1.5.0",
            "_model_name": "HBoxModel",
            "_view_count": null,
            "_view_module": "@jupyter-widgets/controls",
            "_view_module_version": "1.5.0",
            "_view_name": "HBoxView",
            "box_style": "",
            "children": [
              "IPY_MODEL_430a4ca024344cc4b59989743d66c2ce",
              "IPY_MODEL_3577b556f3124a4b83466879065ed3e7",
              "IPY_MODEL_81b24f45e1ba466a90ce62f42d9d5d57"
            ],
            "layout": "IPY_MODEL_944844142b0146e9b076fb4e9f8a8329"
          }
        },
        "e9a49ccb8435418c8c2786d9ed35fb6f": {
          "model_module": "@jupyter-widgets/controls",
          "model_module_version": "1.5.0",
          "model_name": "DescriptionStyleModel",
          "state": {
            "_model_module": "@jupyter-widgets/controls",
            "_model_module_version": "1.5.0",
            "_model_name": "DescriptionStyleModel",
            "_view_count": null,
            "_view_module": "@jupyter-widgets/base",
            "_view_module_version": "1.2.0",
            "_view_name": "StyleView",
            "description_width": ""
          }
        }
      }
    }
  },
  "nbformat": 4,
  "nbformat_minor": 0
}
